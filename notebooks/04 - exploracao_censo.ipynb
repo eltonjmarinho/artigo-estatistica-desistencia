{
 "cells": [
  {
   "cell_type": "markdown",
   "id": "9616be38",
   "metadata": {},
   "source": [
    "# Exploração da base de dados do CENSO\n",
    "\n",
    "Neste notebook, iremos carregar e realizar exploração de dados."
   ]
  },
  {
   "cell_type": "code",
   "execution_count": 2,
   "id": "c1394125",
   "metadata": {},
   "outputs": [
    {
     "name": "stdout",
     "output_type": "stream",
     "text": [
      "Lendo arquivo: MICRODADOS_CADASTRO_CURSOS_2018.csv\n"
     ]
    },
    {
     "name": "stderr",
     "output_type": "stream",
     "text": [
      "C:\\Users\\john-\\AppData\\Local\\Temp\\ipykernel_3016\\1922909930.py:20: DtypeWarning: Columns (1,3,4,6) have mixed types. Specify dtype option on import or set low_memory=False.\n",
      "  df = pd.read_csv(caminho_arquivo, sep=';', encoding='latin1')\n"
     ]
    },
    {
     "name": "stdout",
     "output_type": "stream",
     "text": [
      "Lendo arquivo: MICRODADOS_CADASTRO_CURSOS_2019.csv\n"
     ]
    },
    {
     "name": "stderr",
     "output_type": "stream",
     "text": [
      "C:\\Users\\john-\\AppData\\Local\\Temp\\ipykernel_3016\\1922909930.py:20: DtypeWarning: Columns (1,3,4,6) have mixed types. Specify dtype option on import or set low_memory=False.\n",
      "  df = pd.read_csv(caminho_arquivo, sep=';', encoding='latin1')\n"
     ]
    },
    {
     "name": "stdout",
     "output_type": "stream",
     "text": [
      "Lendo arquivo: MICRODADOS_CADASTRO_CURSOS_2021.csv\n"
     ]
    },
    {
     "name": "stderr",
     "output_type": "stream",
     "text": [
      "C:\\Users\\john-\\AppData\\Local\\Temp\\ipykernel_3016\\1922909930.py:20: DtypeWarning: Columns (1,3,4,6) have mixed types. Specify dtype option on import or set low_memory=False.\n",
      "  df = pd.read_csv(caminho_arquivo, sep=';', encoding='latin1')\n"
     ]
    },
    {
     "name": "stdout",
     "output_type": "stream",
     "text": [
      "Lendo arquivo: MICRODADOS_CADASTRO_CURSOS_2022.csv\n"
     ]
    },
    {
     "name": "stderr",
     "output_type": "stream",
     "text": [
      "C:\\Users\\john-\\AppData\\Local\\Temp\\ipykernel_3016\\1922909930.py:20: DtypeWarning: Columns (1,3,4,6) have mixed types. Specify dtype option on import or set low_memory=False.\n",
      "  df = pd.read_csv(caminho_arquivo, sep=';', encoding='latin1')\n"
     ]
    },
    {
     "name": "stdout",
     "output_type": "stream",
     "text": [
      "Lendo arquivo: MICRODADOS_CADASTRO_CURSOS_2023.csv\n"
     ]
    },
    {
     "name": "stderr",
     "output_type": "stream",
     "text": [
      "C:\\Users\\john-\\AppData\\Local\\Temp\\ipykernel_3016\\1922909930.py:20: DtypeWarning: Columns (1,3,4,6) have mixed types. Specify dtype option on import or set low_memory=False.\n",
      "  df = pd.read_csv(caminho_arquivo, sep=';', encoding='latin1')\n"
     ]
    },
    {
     "name": "stdout",
     "output_type": "stream",
     "text": [
      "Arquivo 'vagas_cursos.csv' salvo com sucesso no diretório processed.\n"
     ]
    }
   ],
   "source": [
    "import os\n",
    "import pandas as pd\n",
    "\n",
    "# Caminhos\n",
    "caminho_raw = r\"C:\\Users\\john-\\OneDrive - Universidade Federal da Paraíba\\Área de Trabalho\\Artigo - Estatística\\projeto-evasao\\data\\raw\\censo\"\n",
    "caminho_processed = r\"C:\\Users\\john-\\OneDrive - Universidade Federal da Paraíba\\Área de Trabalho\\Artigo - Estatística\\projeto-evasao\\data\\processed\"\n",
    "\n",
    "# Lista dos anos\n",
    "anos = [2018, 2019, 2021, 2022, 2023]\n",
    "\n",
    "# Lista para armazenar os dataframes\n",
    "lista_df = []\n",
    "\n",
    "# Loop para carregar e armazenar os dataframes\n",
    "for ano in anos:\n",
    "    arquivo = f\"MICRODADOS_CADASTRO_CURSOS_{ano}.csv\"\n",
    "    caminho_arquivo = os.path.join(caminho_raw, arquivo)\n",
    "    \n",
    "    print(f\"Lendo arquivo: {arquivo}\")\n",
    "    df = pd.read_csv(caminho_arquivo, sep=';', encoding='latin1')\n",
    "    \n",
    "    # Manter apenas as colunas relevantes\n",
    "    df = df[['CO_CURSO', 'QT_VG_TOTAL']]\n",
    "    \n",
    "    lista_df.append(df)\n",
    "\n",
    "# Concatenar todos os dataframes\n",
    "df_concatenado = pd.concat(lista_df, ignore_index=True)\n",
    "\n",
    "# Calcular a média de QT_VG_TOTAL por CO_CURSO\n",
    "df_resultado = (\n",
    "    df_concatenado\n",
    "    .groupby('CO_CURSO', as_index=False)\n",
    "    .mean(numeric_only=True)\n",
    ")\n",
    "\n",
    "# Renomear a coluna para refletir que é a média\n",
    "df_resultado.rename(columns={'QT_VG_TOTAL': 'QT_VG_TOTAL_MEDIA'}, inplace=True)\n",
    "\n",
    "# Salvar o resultado\n",
    "caminho_saida = os.path.join(caminho_processed, 'vagas_cursos.csv')\n",
    "df_resultado.to_csv(caminho_saida, index=False, encoding='utf-8-sig')\n",
    "\n",
    "print(\"Arquivo 'vagas_cursos.csv' salvo com sucesso no diretório processed.\")\n",
    "\n"
   ]
  },
  {
   "cell_type": "code",
   "execution_count": 3,
   "id": "3222f121",
   "metadata": {},
   "outputs": [
    {
     "name": "stdout",
     "output_type": "stream",
     "text": [
      "Merge realizado, coluna arredondada e arquivo salvo com sucesso!\n"
     ]
    }
   ],
   "source": [
    "import pandas as pd\n",
    "import os\n",
    "\n",
    "# Definir os caminhos dos arquivos\n",
    "caminho = r\"C:\\Users\\john-\\OneDrive - Universidade Federal da Paraíba\\Área de Trabalho\\Artigo - Estatística\\projeto-evasao\\data\\processed\"\n",
    "\n",
    "# Carregar os dataframes\n",
    "df_ml = pd.read_csv(os.path.join(caminho, 'ml_iq_2018_2023.csv'), encoding='utf-8-sig')\n",
    "df_vagas = pd.read_csv(os.path.join(caminho, 'vagas_cursos.csv'), encoding='utf-8-sig')\n",
    "\n",
    "# Realizar o merge utilizando CÓDIGO_DO_CURSO e CO_CURSO\n",
    "df_merged = df_ml.merge(\n",
    "    df_vagas,\n",
    "    left_on='CÓDIGO_DO_CURSO',\n",
    "    right_on='CO_CURSO',\n",
    "    how='left'\n",
    ")\n",
    "\n",
    "# Arredondar a coluna QT_VG_TOTAL_MEDIA para zero casas decimais (inteiro)\n",
    "df_merged['QT_VG_TOTAL_MEDIA'] = df_merged['QT_VG_TOTAL_MEDIA'].round(0)\n",
    "\n",
    "# Opcional: Transformar em inteiro, se desejar\n",
    "df_merged['QT_VG_TOTAL_MEDIA'] = df_merged['QT_VG_TOTAL_MEDIA'].astype('Int64')\n",
    "\n",
    "# Remover a coluna CO_CURSO que veio apenas para merge (opcional)\n",
    "df_merged.drop(columns=['CO_CURSO'], inplace=True)\n",
    "\n",
    "# Salvar o dataframe atualizado\n",
    "df_merged.to_csv(\n",
    "    os.path.join(caminho, 'ml_iq_2018_2023.csv'),\n",
    "    index=False,\n",
    "    encoding='utf-8-sig'\n",
    ")\n",
    "\n",
    "print(\"Merge realizado, coluna arredondada e arquivo salvo com sucesso!\")\n",
    "\n"
   ]
  },
  {
   "cell_type": "code",
   "execution_count": 1,
   "id": "ae67e3e8",
   "metadata": {},
   "outputs": [
    {
     "name": "stdout",
     "output_type": "stream",
     "text": [
      "Colunas removidas e coluna renomeada com sucesso!\n"
     ]
    }
   ],
   "source": [
    "import pandas as pd\n",
    "import os\n",
    "\n",
    "# Caminho do arquivo\n",
    "caminho = r\"C:\\Users\\john-\\OneDrive - Universidade Federal da Paraíba\\Área de Trabalho\\Artigo - Estatística\\projeto-evasao\\data\\processed\"\n",
    "\n",
    "# Carregar o dataframe\n",
    "df = pd.read_csv(os.path.join(caminho, 'ml_iq_2018_2023.csv'), encoding='utf-8-sig')\n",
    "\n",
    "# Excluir as colunas\n",
    "colunas_excluir = ['mun', 'CURSOS', 'media_salarial_media_2018_2023']\n",
    "df = df.drop(columns=[col for col in colunas_excluir if col in df.columns])\n",
    "\n",
    "# Renomear a coluna salario para SALARIO (se existir)\n",
    "df = df.rename(columns={'salario': 'SALARIO'})\n",
    "\n",
    "# Salvar novamente no mesmo arquivo\n",
    "df.to_csv(\n",
    "    os.path.join(caminho, 'ml_iq_2018_2023.csv'),\n",
    "    index=False,\n",
    "    encoding='utf-8-sig'\n",
    ")\n",
    "\n",
    "print(\"Colunas removidas e coluna renomeada com sucesso!\")\n"
   ]
  }
 ],
 "metadata": {
  "kernelspec": {
   "display_name": "venv",
   "language": "python",
   "name": "python3"
  },
  "language_info": {
   "codemirror_mode": {
    "name": "ipython",
    "version": 3
   },
   "file_extension": ".py",
   "mimetype": "text/x-python",
   "name": "python",
   "nbconvert_exporter": "python",
   "pygments_lexer": "ipython3",
   "version": "3.13.3"
  }
 },
 "nbformat": 4,
 "nbformat_minor": 5
}
